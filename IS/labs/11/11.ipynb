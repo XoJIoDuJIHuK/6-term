{
 "cells": [
  {
   "cell_type": "code",
   "execution_count": 1,
   "metadata": {},
   "outputs": [],
   "source": [
    "import sys\n",
    "import hashlib\n",
    "import time\n",
    "from PyQt5.QtWidgets import QApplication, QWidget, QVBoxLayout, QLabel, QLineEdit, QPushButton"
   ]
  },
  {
   "cell_type": "code",
   "execution_count": 2,
   "metadata": {},
   "outputs": [
    {
     "ename": "SystemExit",
     "evalue": "0",
     "output_type": "error",
     "traceback": [
      "An exception has occurred, use %tb to see the full traceback.\n",
      "\u001b[1;31mSystemExit\u001b[0m\u001b[1;31m:\u001b[0m 0\n"
     ]
    },
    {
     "name": "stderr",
     "output_type": "stream",
     "text": [
      "c:\\Users\\XoJIoDuJIHuK\\AppData\\Local\\Programs\\Python\\Python312\\Lib\\site-packages\\IPython\\core\\interactiveshell.py:3561: UserWarning: To exit: use 'exit', 'quit', or Ctrl-D.\n",
      "  warn(\"To exit: use 'exit', 'quit', or Ctrl-D.\", stacklevel=1)\n"
     ]
    }
   ],
   "source": [
    "class HashingApp(QWidget):\n",
    "    def __init__(self):\n",
    "        super().__init__()\n",
    "        self.init_ui()\n",
    "\n",
    "    def init_ui(self):\n",
    "        self.setWindowTitle('Text Hashing')\n",
    "        layout = QVBoxLayout()\n",
    "\n",
    "        self.text_input = QLineEdit()\n",
    "        layout.addWidget(self.text_input)\n",
    "\n",
    "        self.hash_button = QPushButton('Hash Text')\n",
    "        self.hash_button.clicked.connect(self.hash_text)\n",
    "        layout.addWidget(self.hash_button)\n",
    "\n",
    "        self.result_label = QLabel()\n",
    "        layout.addWidget(self.result_label)\n",
    "\n",
    "        self.setLayout(layout)\n",
    "        self.show()\n",
    "\n",
    "    def hash_text(self):\n",
    "        text = self.text_input.text()\n",
    "\n",
    "        start_time = time.time()\n",
    "        hashed_text = hashlib.md5(text.encode()).hexdigest()\n",
    "        end_time = time.time()\n",
    "\n",
    "        elapsed_time = (end_time - start_time) * 1000  # Преобразование в миллисекунды\n",
    "\n",
    "        self.result_label.setText(f'Hash: {hashed_text}\\nTime: {elapsed_time*1000:.2f} ns')\n",
    "\n",
    "\n",
    "if __name__ == '__main__':\n",
    "    app = QApplication(sys.argv)\n",
    "    window = HashingApp()\n",
    "    sys.exit(app.exec_())"
   ]
  },
  {
   "cell_type": "code",
   "execution_count": 32,
   "metadata": {},
   "outputs": [
    {
     "name": "stdout",
     "output_type": "stream",
     "text": [
      " l\\p 0.5 0.7 0.8 0.9\n",
      "  64  10  13  15  17\n",
      " 128  14  18  21  25\n",
      " 256  20  25  29  35\n",
      " 512  27  36  41  49\n"
     ]
    }
   ],
   "source": [
    "def birthday_paradox_probability(hashes_amount, hash_length):\n",
    "    if hashes_amount == 1:\n",
    "        return 1\n",
    "    return birthday_paradox_probability(hashes_amount - 1, hash_length) * (hash_length - (hashes_amount - 1)) / hash_length\n",
    "\n",
    "def get_steps_number(minimal_threshold, hash_length):\n",
    "    step = 1\n",
    "    probability = -1\n",
    "    while minimal_threshold >= probability:\n",
    "        probability = 1 - birthday_paradox_probability(step, hash_length)\n",
    "        step += 1\n",
    "    return step - 1\n",
    "    \n",
    "probabilities = [0.5, 0.7, 0.8, 0.9]\n",
    "lengths = [64, 128, 256, 512]\n",
    "print(' '.join([' l\\\\p'] + ['%3s' % str(p) for p in probabilities]))\n",
    "for l in lengths:\n",
    "    print(' '.join(['%4s' % str(l)] + ['%3s' % str(get_steps_number(p, l)) for p in probabilities]))"
   ]
  },
  {
   "cell_type": "markdown",
   "metadata": {},
   "source": [
    "1. Дать определение хеш-функции.\n",
    "   - математическая или иная функция h = H(М), которая принимает на входе строку символов М, называемую также прообразом, переменной длины n и преобразует ее в выходную строку фиксированной (обычно – меньшей) длины l.\n",
    "   - это специальный класс хеш-функций, который имеет различные свойства, необходимые для решения задач в области криптографии\n",
    "   - это функция, выполняющая отображение из множества М в число, находящееся в интервале [0, m-1] : h : M -> [0, m-1]\n",
    "2. Что такое «однонаправленность» хеш-функций и какова роль этого свойства хеш-функций в криптографии?\n",
    "   - для известного H(М) невозможно (практически) определить М\n",
    "3. Что такое «коллизия»? Типы коллизий хеш-функций.\n",
    "   - такое М' (М ≠ М'), для которого H(М) = H(М')\n",
    "4. Сформулировать в общем виде парадокс «дней рождений».\n",
    "   - В группе из 23 человек вероятность совпадения дней рождений у двоих чуть больше 0.5 при том, что считается:\n",
    "     - в этой группе нет близнецов\n",
    "     - люди рождаются независимо друг от друга\n",
    "     - люди рождаются равномерно и случайно\n",
    "5. Как парадокс «дней рождений» используется в криптографии?\n",
    "   - дни рождения - это разные хеши, совпадения - коллизии\n",
    "   - При атаке «дней рождения» злоумышленник будет случайным образом подбирать Мi и Мj и сохранять пары их хешей, пока не найдет двух значений, при которых h(Мi) = h(Мj)\n",
    "6. Сколько попыток нужно сделать, чтобы с вероятностью более 0,5 (0,7; 0,8; 0,9) обнаружить коллизию при длине хеша (l) 64 (128; 256; 512) битов?\n",
    "   - выше\n",
    "7. Дать общую характеристику алгоритмам хеширования семейств MD и SHA. Из каких основных стадий состоит алгоритм хеширования сообщения?\n",
    "   - расширение (территории)\n",
    "   - разбивка (лица) на блоки\n",
    "   - инциализация начальных констант\n",
    "   - обработка каждого блока\n",
    "     - для мд5: несколько операций, в каждой из которых три из четырёх констант подаются на вход какой-то нелинейной функции, а занем складываются по модулю с четвёртой, текущим блоком и константе Ti\n",
    "   - вывод результата\n",
    "8. Рассчитать общую длину (L') хешируемого сообщения после предварительной стадии на основе алгоритма MD, если объем (L) исходного сообщения составлял: 0 (512); 484 (1024); 512 (1024); 1000 (1536); 2000 (); 16 000 битов. Какова в каждом случае будет длина хеша? (тут хз, мб 128)\n",
    "9. Входное сообщение (прообраз) состоит;\n",
    "   1. из вашего имени;\n",
    "   2. из ваших фамилии_имени_отчества (алфавит – на свой выбор). \n",
    "   - Используя представление сообщения в кодах ASCII, представить в табличной форме (как выше в примере 5) содержание каждого 32-битного подблока расширенного входного сообщения.\n",
    "   - роте бал\n",
    "10. Представить и охарактеризовать структурную схему одного раунда алгоритмов хеширования на основе MD4; MD5; SHA-1.\n",
    "    - картинку вставлять не буду, страницы 132, 133 методички\n",
    "11. На чем основан «лавинный эффект» в алгоритмах хеширования? В чем состоит цель его реализации?\n",
    "    - результат текущего действия прибавляется к результату предыдущего\n",
    "    - цель в том, чтобы уменьшить эффективность атак, например, попыток подбора исходного сообщения\n",
    "12. В чем состоят основные структурные и функциональные особенности алгоритма хеширования SHA-3?\n",
    "    - Цикл состоит из четырех этапов по 20 операций в каждом\n",
    "    - Каждая операция представляет собой нелинейную функцию над тремя из пяти: a, b, c, d, e\n",
    "    - Сдвиг и сложение – аналогично MD5\n",
    "13. Охарактеризовать структурные, функциональные особенности и криптостойкость белорусского государственного стандарта хеширования (СТБ 34.101.77–2016)\n",
    "    - я отказываюсь в этом разбираться\n",
    "    - С 5 августа 2015 г. утвержден и опубликован в качестве действующего стандарта (FIPS 202) алгоритм SHA-3, одной из отличительных особенностей которого является использование конструкции «криптографической губки». В этой конструкции реализован итеративный подход для создания функции с произвольной длиной на входе и произвольной длиной на выходе на основе определенного преобразования. На основе технологии «губки» построен ныне действующий в Беларуси стандарт хеширования"
   ]
  },
  {
   "cell_type": "markdown",
   "metadata": {},
   "source": []
  }
 ],
 "metadata": {
  "kernelspec": {
   "display_name": "Python 3",
   "language": "python",
   "name": "python3"
  },
  "language_info": {
   "codemirror_mode": {
    "name": "ipython",
    "version": 3
   },
   "file_extension": ".py",
   "mimetype": "text/x-python",
   "name": "python",
   "nbconvert_exporter": "python",
   "pygments_lexer": "ipython3",
   "version": "3.12.1"
  }
 },
 "nbformat": 4,
 "nbformat_minor": 2
}

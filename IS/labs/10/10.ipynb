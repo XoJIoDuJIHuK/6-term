{
 "cells": [
  {
   "cell_type": "code",
   "execution_count": 32,
   "metadata": {},
   "outputs": [
    {
     "name": "stdout",
     "output_type": "stream",
     "text": [
      "зашифрование:  0.0\n",
      "b'\\x11$Q\\xfb/\\xb3\\xee\\x1fj\\x16\\xdd\\xc2\\xee\\xb9\\xd0\\xdb#4\\xd1H&\\x86 <pM\\x85Y\\xc0\\x1d9G\\x15\\xb9\\xea=\\x86\\xd4\\xec\\xe2`Z_\\x1ey\\xc6\\x074Q\\xfe\\x9c\\xa8]khLy\\xdd\\x02VJ\\xf2\\xdc~\\xd8\\xca\\xa5ij\\xb9\\x9e\\x99\\x9e\\xf4\\xf4\\xf0\\xe3\\xa3\\xf7n\\xd9\\xc6\\xe1\\xd8\\xd5*\\x86\\x80\\xa8w\\xa7\\xabP\\xad\\x8f\\xf1=\\xd9\\x1bf\\xc5\\xf6\\xe6\\x80\\xab\\xa2,N:\\xefzEr\\xb2t\\xc8\\xb7\\x03\\xf8\\x93\\x80\\x89\\x81\\x01\\x144gA~R \\x8d\\x03[\\xe0i!\\xd6\\x9e\\xea\\xe1\\x1c\\xb9%\\xe1H\\x8fjO\\xdbUQ\\x05\\xc4\\xe8\\xcb\\xec\\xf7/\\xe4\\x9c\\x1d\\xdc\\r<4\\xb8\\xffI\\xd7U\\xe8\\xd3\\xd2\\x9d\\x05\\xc4\\xdf\\xb9\\xf7\\x84Z\\xe3\\x1dd\\xd3D[\\x9d\\xf1i\\x95\\xba\\xbf(\\xad\\xb1\\xb5x\\xe4\\xe8\\xbf\\x0b\\x15\\x15[\\xff\\x0fr\\xcb\\xb6\\x03y\"AY\\xbc[-Q\\xb4\\x90\\x05\\xf5\\x06\\x9c\\xe3\\x16\\x9c\\x95\\xd7\\xe4\\xdbd\\t\\xe9h|iTR\\x95j\\x15&\\x06\\x87\\xb55\\xac6G{\\x9f|\\x15'\n",
      "расшифрование:  0.0\n",
      "ZxC\n"
     ]
    }
   ],
   "source": [
    "from cryptography.hazmat.primitives.asymmetric import rsa, padding\n",
    "from cryptography.hazmat.primitives import serialization, hashes\n",
    "import time\n",
    "\n",
    "class RSAEncryptor:\n",
    "    def __init__(self, key_size=2048):\n",
    "        self.private_key = None\n",
    "        self.public_key = None\n",
    "        self.key_size = key_size\n",
    "        self.generate_keys()\n",
    "\n",
    "    def generate_keys(self):\n",
    "        private_key = rsa.generate_private_key(\n",
    "            public_exponent=65537,\n",
    "            key_size=self.key_size\n",
    "        )\n",
    "        self.private_key = private_key\n",
    "\n",
    "        public_key = private_key.public_key()\n",
    "        self.public_key = public_key\n",
    "\n",
    "    def encrypt(self, message):\n",
    "        start = time.time()\n",
    "        if self.public_key is None:\n",
    "            raise ValueError(\"Public key has not been generated or imported.\")\n",
    "\n",
    "        ciphertext = self.public_key.encrypt(\n",
    "            message.encode('utf-8'),\n",
    "            padding.OAEP(\n",
    "                mgf=padding.MGF1(algorithm=hashes.SHA256()),\n",
    "                algorithm=hashes.SHA256(),\n",
    "                label=None\n",
    "            )\n",
    "        )\n",
    "        print('зашифрование: ', time.time() - start)\n",
    "        return ciphertext\n",
    "\n",
    "    def decrypt(self, ciphertext):\n",
    "        start = time.time()\n",
    "        if self.private_key is None:\n",
    "            raise ValueError(\"Private key has not been generated or imported.\")\n",
    "\n",
    "        plaintext = self.private_key.decrypt(\n",
    "            ciphertext,\n",
    "            padding.OAEP(\n",
    "                mgf=padding.MGF1(algorithm=hashes.SHA256()),\n",
    "                algorithm=hashes.SHA256(),\n",
    "                label=None\n",
    "            )\n",
    "        )\n",
    "        print('расшифрование: ', time.time() - start)\n",
    "        return plaintext.decode('utf-8')\n",
    "    \n",
    "rsa = RSAEncryptor()\n",
    "enc = rsa.encrypt('ZxC')\n",
    "print(enc)\n",
    "dec = rsa.decrypt(enc)\n",
    "print(dec)"
   ]
  },
  {
   "cell_type": "code",
   "execution_count": 33,
   "metadata": {},
   "outputs": [
    {
     "name": "stdout",
     "output_type": "stream",
     "text": [
      "PK  (p-593,g-123,y-162)\n",
      "PK  (p-593,g-123,x-8)\n",
      "зашифрование:  0.0\n",
      "[(551, 30), (292, 384), (574, 451), (577, 504), (202, 227), (528, 235)]\n",
      "расшифрование:  0.0\n",
      "Qwerty\n"
     ]
    }
   ],
   "source": [
    "import random\n",
    "\n",
    "\n",
    "class GamalAlgoEncr:\n",
    "    def __init__(self, pr, gr, prKey):\n",
    "        self.p = pr\n",
    "        self.g = gr\n",
    "        self.x = prKey\n",
    "        self.y = (self.g ** self.x) % self.p\n",
    "        print(f\"PK  (p-{self.p},g-{self.g},y-{self.y})\")\n",
    "        print(f\"PK  (p-{self.p},g-{self.g},x-{self.x})\")\n",
    "\n",
    "    def encrypt(self, text):\n",
    "        start = time.time()\n",
    "        result = []\n",
    "        random_gen = random.Random()\n",
    "        for character in text:\n",
    "            k = random_gen.randint(1, self.p - 2)\n",
    "            a = (self.g ** k) % self.p\n",
    "            b = ((self.y ** k) * ord(character)) % self.p\n",
    "            result.append((a, b))\n",
    "        print('зашифрование: ', time.time() - start)\n",
    "        return result\n",
    "\n",
    "    def decrypt(self, encryptedText):\n",
    "        start = time.time()\n",
    "        result = \"\"\n",
    "        for pair in encryptedText:\n",
    "            a, b = pair\n",
    "            # decodedChar = (b * self.mod_inverse(a ** self.x, self.p)) % self.p\n",
    "            decodedChar = (b * (a ** (self.p - self.x - 1))) % self.p\n",
    "            result += chr(decodedChar)\n",
    "        print('расшифрование: ', time.time() - start)\n",
    "        return result\n",
    "    \n",
    "    def extended_gcd(self, a, b):\n",
    "        if b == 0:\n",
    "            return a, 1, 0\n",
    "        else:\n",
    "            gcd, x_prev, y_prev = self.extended_gcd(b, a % b)\n",
    "            x = y_prev\n",
    "            y = x_prev - (a // b) * y_prev\n",
    "            return gcd, x, y\n",
    "\n",
    "    def mod_inverse(self, a, m):\n",
    "        gcd, x, _ = self.extended_gcd(a, m)\n",
    "        if gcd != 1:\n",
    "            raise ValueError(f\"{a} не имеет обратного элемента по модулю {m}.\")\n",
    "        return x % m\n",
    "    \n",
    "gamal = GamalAlgoEncr(593, 123, 8)\n",
    "enc = gamal.encrypt('Qwerty')\n",
    "print(enc)\n",
    "print(gamal.decrypt(enc))"
   ]
  },
  {
   "cell_type": "code",
   "execution_count": 35,
   "metadata": {},
   "outputs": [
    {
     "name": "stdout",
     "output_type": "stream",
     "text": [
      "1000 0.0\n",
      "10000000000000 0.0037689208984375\n",
      "100000000000000000000000 0.0\n",
      "1000000000000000000000000000000000 0.001092672348022461\n",
      "10000000000000000000000000000000000000000000 0.0011067390441894531\n",
      "100000000000000000000000000000000000000000000000000000 0.0010919570922851562\n",
      "1000000000000000000000000000000000000000000000000000000000000000 0.002257823944091797\n",
      "10000000000000000000000000000000000000000000000000000000000000000000000000 0.001107931137084961\n",
      "100000000000000000000000000000000000000000000000000000000000000000000000000000000000 0.0022411346435546875\n",
      "1000000000000000000000000000000000000000000000000000000000000000000000000000000000000000000000 0.0020949840545654297\n"
     ]
    }
   ],
   "source": [
    "n = pow(2, 1024)\n",
    "a = 7\n",
    "x = 1000\n",
    "\n",
    "for i in range(10):\n",
    "    start = time.time()\n",
    "    y = pow(a, x, n)\n",
    "    print(x, time.time() - start)\n",
    "    x *= pow(10, 10)"
   ]
  }
 ],
 "metadata": {
  "kernelspec": {
   "display_name": "Python 3",
   "language": "python",
   "name": "python3"
  },
  "language_info": {
   "codemirror_mode": {
    "name": "ipython",
    "version": 3
   },
   "file_extension": ".py",
   "mimetype": "text/x-python",
   "name": "python",
   "nbconvert_exporter": "python",
   "pygments_lexer": "ipython3",
   "version": "3.12.1"
  }
 },
 "nbformat": 4,
 "nbformat_minor": 2
}

{
 "cells": [
  {
   "cell_type": "code",
   "execution_count": 46,
   "id": "755feea8-6c72-4346-a8e4-4332c80688cf",
   "metadata": {},
   "outputs": [],
   "source": [
    "import pandas as pd\n",
    "import numpy as np\n",
    "from sklearn.tree import DecisionTreeClassifier\n",
    "from sklearn.neighbors import KNeighborsClassifier\n",
    "from sklearn.metrics import accuracy_score\n",
    "from sklearn.model_selection import GridSearchCV\n",
    "\n",
    "dtr = pd.read_csv('dataset/train.csv')\n",
    "dts = pd.read_csv('dataset/test.csv')"
   ]
  },
  {
   "cell_type": "code",
   "execution_count": 32,
   "id": "56e20b14-7a1b-42e0-a42a-d096daa971c5",
   "metadata": {},
   "outputs": [
    {
     "name": "stdout",
     "output_type": "stream",
     "text": [
      "[0, 1]\n"
     ]
    }
   ],
   "source": [
    "print(list(set(df['gender'])))"
   ]
  },
  {
   "cell_type": "code",
   "execution_count": 47,
   "id": "54480598-2a92-478e-86b2-1007625f8321",
   "metadata": {},
   "outputs": [
    {
     "name": "stderr",
     "output_type": "stream",
     "text": [
      "/tmp/ipykernel_1121129/2411171329.py:5: FutureWarning: Downcasting behavior in `replace` is deprecated and will be removed in a future version. To retain the old behavior, explicitly call `result.infer_objects(copy=False)`. To opt-in to the future behavior, set `pd.set_option('future.no_silent_downcasting', True)`\n",
      "  df.replace(to_replace={value: index for index, value in enumerate(set(df[column]))}, inplace=True)\n",
      "/tmp/ipykernel_1121129/2411171329.py:5: FutureWarning: Downcasting behavior in `replace` is deprecated and will be removed in a future version. To retain the old behavior, explicitly call `result.infer_objects(copy=False)`. To opt-in to the future behavior, set `pd.set_option('future.no_silent_downcasting', True)`\n",
      "  df.replace(to_replace={value: index for index, value in enumerate(set(df[column]))}, inplace=True)\n",
      "/tmp/ipykernel_1121129/2411171329.py:5: FutureWarning: Downcasting behavior in `replace` is deprecated and will be removed in a future version. To retain the old behavior, explicitly call `result.infer_objects(copy=False)`. To opt-in to the future behavior, set `pd.set_option('future.no_silent_downcasting', True)`\n",
      "  df.replace(to_replace={value: index for index, value in enumerate(set(df[column]))}, inplace=True)\n",
      "/tmp/ipykernel_1121129/2411171329.py:5: FutureWarning: Downcasting behavior in `replace` is deprecated and will be removed in a future version. To retain the old behavior, explicitly call `result.infer_objects(copy=False)`. To opt-in to the future behavior, set `pd.set_option('future.no_silent_downcasting', True)`\n",
      "  df.replace(to_replace={value: index for index, value in enumerate(set(df[column]))}, inplace=True)\n",
      "/tmp/ipykernel_1121129/2411171329.py:5: FutureWarning: Downcasting behavior in `replace` is deprecated and will be removed in a future version. To retain the old behavior, explicitly call `result.infer_objects(copy=False)`. To opt-in to the future behavior, set `pd.set_option('future.no_silent_downcasting', True)`\n",
      "  df.replace(to_replace={value: index for index, value in enumerate(set(df[column]))}, inplace=True)\n",
      "/tmp/ipykernel_1121129/2411171329.py:5: FutureWarning: Downcasting behavior in `replace` is deprecated and will be removed in a future version. To retain the old behavior, explicitly call `result.infer_objects(copy=False)`. To opt-in to the future behavior, set `pd.set_option('future.no_silent_downcasting', True)`\n",
      "  df.replace(to_replace={value: index for index, value in enumerate(set(df[column]))}, inplace=True)\n",
      "/tmp/ipykernel_1121129/2411171329.py:5: FutureWarning: Downcasting behavior in `replace` is deprecated and will be removed in a future version. To retain the old behavior, explicitly call `result.infer_objects(copy=False)`. To opt-in to the future behavior, set `pd.set_option('future.no_silent_downcasting', True)`\n",
      "  df.replace(to_replace={value: index for index, value in enumerate(set(df[column]))}, inplace=True)\n",
      "/tmp/ipykernel_1121129/2411171329.py:5: FutureWarning: Downcasting behavior in `replace` is deprecated and will be removed in a future version. To retain the old behavior, explicitly call `result.infer_objects(copy=False)`. To opt-in to the future behavior, set `pd.set_option('future.no_silent_downcasting', True)`\n",
      "  df.replace(to_replace={value: index for index, value in enumerate(set(df[column]))}, inplace=True)\n"
     ]
    }
   ],
   "source": [
    "for column in dtr.columns:\n",
    "    if dtr.dtypes[column] == 'int64':\n",
    "        continue\n",
    "    for df in [dtr, dts]:\n",
    "        df.replace(to_replace={value: index for index, value in enumerate(set(df[column]))}, inplace=True)"
   ]
  },
  {
   "cell_type": "code",
   "execution_count": 79,
   "id": "4d4630c8-060e-47af-a010-70932c5e1b9a",
   "metadata": {},
   "outputs": [],
   "source": [
    "income = 'income_>50K'\n",
    "\n",
    "train_part = dtr[:20000]\n",
    "test_part = dtr[20000:]\n",
    "\n",
    "Y_train = train_part[income]\n",
    "X_train = train_part.drop(income, axis=1)\n",
    "Y_test = test_part[income]\n",
    "X_test = test_part.drop(income, axis=1)\n",
    "\n",
    "# print(y_train)\n",
    "# print(X_train)\n",
    "# print(X_test)"
   ]
  },
  {
   "cell_type": "code",
   "execution_count": 73,
   "id": "cfebf106-42ca-4222-ab7b-7cd68e86b0dc",
   "metadata": {},
   "outputs": [
    {
     "name": "stdout",
     "output_type": "stream",
     "text": [
      "Наилучшие параметры: {'criterion': 'log_loss'}\n",
      "Лучшая оценка: 0.816866521399947\n"
     ]
    }
   ],
   "source": [
    "decision_tree = DecisionTreeClassifier()\n",
    "decision_tree.fit(X_train, Y_train)\n",
    "\n",
    "knn = KNeighborsClassifier()\n",
    "knn.fit(X_train, Y_train)\n",
    "\n",
    "decision_tree = DecisionTreeClassifier()\n",
    "param_grid = {\n",
    "    'criterion': ['gini', 'entropy', 'log_loss'],\n",
    "    # 'max_depth': [None, 5, 10, 15],\n",
    "    # 'min_samples_split': [2, 5, 10],\n",
    "    # 'min_samples_leaf': [55, 60, 65]\n",
    "}\n",
    "\n",
    "grid_search = GridSearchCV(decision_tree, param_grid, cv=5)\n",
    "grid_search.fit(X_train, y_train)\n",
    "\n",
    "print(\"Наилучшие параметры:\", grid_search.best_params_)\n",
    "print(\"Лучшая оценка:\", grid_search.best_score_)"
   ]
  },
  {
   "cell_type": "code",
   "execution_count": 71,
   "id": "af68817d-7ef2-42cb-9464-d6adf28e19f7",
   "metadata": {},
   "outputs": [
    {
     "name": "stdout",
     "output_type": "stream",
     "text": [
      "Наилучшие параметры: {'leaf_size': 3, 'n_jobs': -1}\n",
      "Лучшая оценка: 0.776031156854625\n"
     ]
    }
   ],
   "source": [
    "knn = KNeighborsClassifier()\n",
    "param_grid = {\n",
    "    'n_jobs': [-1],\n",
    "    'leaf_size': [2, 3, 4],\n",
    "    # 'n_neighbors': [20, 25, 30],\n",
    "    # 'weights': ['uniform', 'distance']\n",
    "}\n",
    "\n",
    "grid_search = GridSearchCV(knn, param_grid, cv=5)\n",
    "grid_search.fit(X_train, Y_train)\n",
    "\n",
    "print(\"Наилучшие параметры:\", grid_search.best_params_)\n",
    "print(\"Лучшая оценка:\", grid_search.best_score_)"
   ]
  },
  {
   "cell_type": "code",
   "execution_count": 80,
   "id": "5d0b3be6-fa80-490d-b07f-b382aeecd4bd",
   "metadata": {},
   "outputs": [
    {
     "name": "stdout",
     "output_type": "stream",
     "text": [
      "Точность модели дерева решений: 0.8575\n",
      "Точность модели k-ближайших соседей: 0.8012\n"
     ]
    }
   ],
   "source": [
    "decision_tree = DecisionTreeClassifier(\n",
    "    criterion = 'log_loss',\n",
    "    max_depth = 10,\n",
    "    min_samples_leaf = 60,\n",
    "    min_samples_split = 5\n",
    ")\n",
    "knn = KNeighborsClassifier(\n",
    "    leaf_size = 3,\n",
    "    n_jobs = -1,\n",
    "    n_neighbors = 25, \n",
    "    weights = 'uniform'\n",
    ")\n",
    "decision_tree.fit(X_train, Y_train)\n",
    "knn.fit(X_train, Y_train)\n",
    "\n",
    "\n",
    "y_pred_DT_train = decision_tree.predict(X_train)\n",
    "y_pred_knn_train = knn.predict(X_train)\n",
    "\n",
    "y_pred_decision_tree = decision_tree.predict(X_test)\n",
    "y_pred_knn = knn.predict(X_test)\n",
    "\n",
    "# print(\"Результаты предсказания модели дерева решений:\", y_pred_decision_tree)\n",
    "# print(\"Результаты предсказания модели k-ближайших соседей:\", y_pred_knn)\n",
    "\n",
    "accuracy_decision_tree = accuracy_score(Y_train, y_pred_DT_train)\n",
    "accuracy_knn = accuracy_score(Y_train, y_pred_knn_train)\n",
    "\n",
    "print(\"Точность модели дерева решений:\", accuracy_decision_tree)\n",
    "print(\"Точность модели k-ближайших соседей:\", accuracy_knn)"
   ]
  },
  {
   "cell_type": "code",
   "execution_count": 81,
   "id": "6dd91acd-69c0-44c9-b240-09125c1c9011",
   "metadata": {},
   "outputs": [
    {
     "name": "stdout",
     "output_type": "stream",
     "text": [
      "Матрица ошибок для модели дерева решений:\n",
      "[[17120  1129]\n",
      " [ 2372  3336]]\n",
      "Матрица ошибок для модели k-ближайших соседей:\n",
      "[[18115   134]\n",
      " [ 4682  1026]]\n"
     ]
    }
   ],
   "source": [
    "from sklearn.metrics import confusion_matrix\n",
    "\n",
    "cm_decision_tree = confusion_matrix(Y_test, y_pred_decision_tree)\n",
    "cm_knn = confusion_matrix(Y_test, y_pred_knn)\n",
    "\n",
    "print(\"Матрица ошибок для модели дерева решений:\")\n",
    "print(cm_decision_tree)\n",
    "\n",
    "print(\"Матрица ошибок для модели k-ближайших соседей:\")\n",
    "print(cm_knn)"
   ]
  }
 ],
 "metadata": {
  "kernelspec": {
   "display_name": "Python 3 (ipykernel)",
   "language": "python",
   "name": "python3"
  },
  "language_info": {
   "codemirror_mode": {
    "name": "ipython",
    "version": 3
   },
   "file_extension": ".py",
   "mimetype": "text/x-python",
   "name": "python",
   "nbconvert_exporter": "python",
   "pygments_lexer": "ipython3",
   "version": "3.11.5"
  }
 },
 "nbformat": 4,
 "nbformat_minor": 5
}

{
 "cells": [
  {
   "cell_type": "code",
   "execution_count": 13,
   "id": "ccbd6e70-b39a-420b-ae26-e6616a51571c",
   "metadata": {},
   "outputs": [
    {
     "name": "stdout",
     "output_type": "stream",
     "text": [
      "NumPy\n"
     ]
    }
   ],
   "source": [
    "import numpy as np\n",
    "filter_value = 7\n",
    "print('NumPy')\n",
    "def flatten(xss):\n",
    "    return [x for xs in xss for x in xs]"
   ]
  },
  {
   "cell_type": "code",
   "execution_count": 20,
   "id": "5e48c2e8-9c63-4607-bf60-030b49e1bdba",
   "metadata": {},
   "outputs": [
    {
     "name": "stdout",
     "output_type": "stream",
     "text": [
      "Первоначальный массив:\n",
      "[[5 4 7 2 7]\n",
      " [4 6 1 8 9]\n",
      " [2 9 5 4 9]\n",
      " [6 5 7 8 7]]\n"
     ]
    }
   ],
   "source": [
    "# создайте двумерный массив из 20 целых случайных чисел\n",
    "array = np.random.randint(low=1, high=10, size=(4, 5))\n",
    "print(\"Первоначальный массив:\")\n",
    "print(array)"
   ]
  },
  {
   "cell_type": "code",
   "execution_count": 21,
   "id": "3951a215-9a0e-4a68-9ca6-9d3fb0907df0",
   "metadata": {},
   "outputs": [
    {
     "name": "stdout",
     "output_type": "stream",
     "text": [
      "Первый подмассив:\n",
      "[[5 4 7 2 7]\n",
      " [4 6 1 8 9]]\n",
      "Второй подмассив:\n",
      "[[2 9 5 4 9]\n",
      " [6 5 7 8 7]]\n"
     ]
    }
   ],
   "source": [
    "# разделите полученный массив на 2 массива\n",
    "array1, array2 = np.split(array, 2)\n",
    "# array1 = flatten(array1)\n",
    "# array2 = flatten(array2)\n",
    "print(\"Первый подмассив:\")\n",
    "print(array1)\n",
    "print(\"Второй подмассив:\")\n",
    "print(array2)"
   ]
  },
  {
   "cell_type": "code",
   "execution_count": 22,
   "id": "0978aabf-5a0a-408a-b44c-094d2b4a5db7",
   "metadata": {},
   "outputs": [],
   "source": [
    "# найдите все заданные значения в первом массиве (например, равные 6)\n",
    "found_elements = np.where(array1 == filter_value)"
   ]
  },
  {
   "cell_type": "code",
   "execution_count": 23,
   "id": "7c9e05bf-df59-4b6a-b66e-3de013c3de7f",
   "metadata": {},
   "outputs": [],
   "source": [
    "# подсчитайте количество найденных элементов\n",
    "count = len(found_elements[0])"
   ]
  },
  {
   "cell_type": "code",
   "execution_count": 24,
   "id": "fbb2f023-36f9-42fd-b4e7-71f3fecda92e",
   "metadata": {},
   "outputs": [
    {
     "name": "stdout",
     "output_type": "stream",
     "text": [
      "\n",
      "Найденные элементы, равные 7, в первом подмассиве: (array([0, 0], dtype=int64), array([2, 4], dtype=int64))\n",
      "Количество найденных элементов, равных 7: 2\n"
     ]
    }
   ],
   "source": [
    "print(f\"\\nНайденные элементы, равные {filter_value}, в первом подмассиве: {found_elements}\")\n",
    "print(f\"Количество найденных элементов, равных {filter_value}: {count}\")"
   ]
  },
  {
   "cell_type": "code",
   "execution_count": 25,
   "id": "1e2e846d-767e-46ec-a66e-526c06d31d0c",
   "metadata": {},
   "outputs": [
    {
     "name": "stdout",
     "output_type": "stream",
     "text": [
      "Pandas\n"
     ]
    }
   ],
   "source": [
    "import pandas as pd\n",
    "print('Pandas')"
   ]
  },
  {
   "cell_type": "code",
   "execution_count": 28,
   "id": "f49a4a68-a63b-4c44-bd1d-fb0bb1e30987",
   "metadata": {},
   "outputs": [
    {
     "name": "stdout",
     "output_type": "stream",
     "text": [
      "Объект Series:\n",
      "0    1\n",
      "1    2\n",
      "2    3\n",
      "3    4\n",
      "4    5\n",
      "dtype: int32\n"
     ]
    }
   ],
   "source": [
    "# создайте объект Series из массива NumPy\n",
    "array = np.array([1, 2, 3, 4, 5])\n",
    "series = pd.Series(array)\n",
    "print(\"Объект Series:\")\n",
    "print(series)"
   ]
  },
  {
   "cell_type": "code",
   "execution_count": 29,
   "id": "5d749f85-25f3-4f5f-b8ad-0f4e18027da7",
   "metadata": {},
   "outputs": [
    {
     "name": "stdout",
     "output_type": "stream",
     "text": [
      "\n",
      "Результат возведения в квадрат:\n",
      "0     1\n",
      "1     4\n",
      "2     9\n",
      "3    16\n",
      "4    25\n",
      "dtype: int32\n",
      "\n",
      "Сумма элементов:\n",
      "15\n",
      "\n",
      "Среднее значение:\n",
      "3.0\n"
     ]
    }
   ],
   "source": [
    "# произведите с ним различные математические операции\n",
    "squared = series ** 2\n",
    "sum_value = series.sum()\n",
    "mean_value = series.mean()\n",
    "print(\"\\nРезультат возведения в квадрат:\")\n",
    "print(squared)\n",
    "print(\"\\nСумма элементов:\")\n",
    "print(sum_value)\n",
    "print(\"\\nСреднее значение:\")\n",
    "print(mean_value)"
   ]
  },
  {
   "cell_type": "code",
   "execution_count": 30,
   "id": "4a392b2f-a5e4-4892-85be-a0c5060295fa",
   "metadata": {},
   "outputs": [
    {
     "name": "stdout",
     "output_type": "stream",
     "text": [
      "\n",
      "Объект DataFrame:\n",
      "   0  1  2\n",
      "0  1  2  5\n",
      "1  4  5  6\n",
      "2  7  8  9\n"
     ]
    }
   ],
   "source": [
    "# создайте объект Dataframe из массива NumPy\n",
    "data = np.array([[1, 2, 5], [4, 5, 6], [7, 8, 9]])\n",
    "df = pd.DataFrame(data)\n",
    "print(\"\\nОбъект DataFrame:\")\n",
    "print(df)"
   ]
  },
  {
   "cell_type": "code",
   "execution_count": 31,
   "id": "18b5e4a5-53c6-41b5-bec8-0d7e2bcf649c",
   "metadata": {},
   "outputs": [],
   "source": [
    "# напишите строку заголовков в созданном Dataframe\n",
    "df.columns = ['A', 'B', 'C']"
   ]
  },
  {
   "cell_type": "code",
   "execution_count": 32,
   "id": "a034cbcb-8f80-45f2-8732-58edffb5fada",
   "metadata": {},
   "outputs": [],
   "source": [
    "# удалите любую строку\n",
    "df = df.drop(1)"
   ]
  },
  {
   "cell_type": "code",
   "execution_count": 33,
   "id": "c382c107-0ad2-44f3-b7e6-f3dbb5c28bde",
   "metadata": {},
   "outputs": [],
   "source": [
    "# удалите любой столбец\n",
    "df = df.drop('B', axis=1)"
   ]
  },
  {
   "cell_type": "code",
   "execution_count": 34,
   "id": "b002c8c9-3c81-4945-9316-13e38f0be685",
   "metadata": {},
   "outputs": [
    {
     "name": "stdout",
     "output_type": "stream",
     "text": [
      "\n",
      "Размер DataFrame:\n",
      "(2, 2)\n"
     ]
    }
   ],
   "source": [
    "# выведите размер получившегося Dataframe\n",
    "shape = df.shape\n",
    "print(\"\\nРазмер DataFrame:\")\n",
    "print(shape)"
   ]
  },
  {
   "cell_type": "code",
   "execution_count": 35,
   "id": "2c3ec870-e7d5-4987-a786-65344b65b5a1",
   "metadata": {},
   "outputs": [
    {
     "name": "stdout",
     "output_type": "stream",
     "text": [
      "\n",
      "Найденные элементы, равные 5:\n",
      "    A    C\n",
      "0 NaN  5.0\n",
      "2 NaN  NaN\n"
     ]
    }
   ],
   "source": [
    "# найдите все элементы равные какому-либо числу\n",
    "found_elements = df[df == 5]\n",
    "print(\"\\nНайденные элементы, равные 5:\")\n",
    "print(found_elements)"
   ]
  },
  {
   "cell_type": "code",
   "execution_count": 36,
   "id": "78cbd217-60fa-4a86-bdbe-f8fbdc102bc0",
   "metadata": {},
   "outputs": [
    {
     "name": "stdout",
     "output_type": "stream",
     "text": [
      "    Year     Population Yearly Growth %      Number  Density (Pop/km2)\n",
      "0   1951  2,543,130,380           1.75%  43,808,223                 17\n",
      "1   1952  2,590,270,899           1.85%  47,140,519                 17\n",
      "2   1953  2,640,278,797           1.93%  50,007,898                 18\n",
      "3   1954  2,691,979,339           1.96%  51,700,542                 18\n",
      "4   1955  2,746,072,141           2.01%  54,092,802                 18\n",
      "..   ...            ...             ...         ...                ...\n",
      "68  2019  7,764,951,032           1.06%  81,161,204                 52\n",
      "69  2020  7,840,952,880           0.98%  76,001,848                 53\n",
      "70  2021  7,909,295,151           0.87%  68,342,271                 53\n",
      "71  2022  7,975,105,156           0.83%  65,810,005                 54\n",
      "72  2023  8,045,311,447           0.88%  70,206,291                 54\n",
      "\n",
      "[73 rows x 5 columns]\n"
     ]
    }
   ],
   "source": [
    "import matplotlib.pyplot as plt\n",
    "import matplotlib.ticker as ticker\n",
    "data_csv = pd.read_csv('D:\\\\6sem\\\\MML\\\\labs\\\\1\\\\World Population Growth.csv')\n",
    "print(data_csv)"
   ]
  },
  {
   "cell_type": "code",
   "execution_count": 39,
   "id": "06a7492d-0f96-421a-bc43-3023ffe66397",
   "metadata": {},
   "outputs": [
    {
     "data": {
      "image/png": "[encoded data removed]",
      "text/plain": [
       "<Figure size 640x480 with 1 Axes>"
      ]
     },
     "metadata": {},
     "output_type": "display_data"
    }
   ],
   "source": [
    "bins = 20\n",
    "parameter = 'Yearly Growth %'\n",
    "plt.hist(data_csv[parameter], bins=bins)\n",
    "plt.xticks(rotation=45, ha='right')\n",
    "plt.gca().xaxis.set_major_locator(ticker.MaxNLocator(nbins=bins))\n",
    "plt.xlabel('growth')\n",
    "plt.ylabel('years')\n",
    "plt.show()\n",
    "\n",
    "data_csv[parameter] = data_csv[parameter].str.rstrip('%').astype(float)"
   ]
  },
  {
   "cell_type": "code",
   "execution_count": 40,
   "id": "592cd471-8542-44a9-af64-ad028439f4c8",
   "metadata": {
    "scrolled": true
   },
   "outputs": [],
   "source": [
    "# Рассчитайте медиану и среднее значение параметра.\n",
    "median = data_csv[parameter].median()\n",
    "mean = data_csv[parameter].mean()"
   ]
  },
  {
   "cell_type": "code",
   "execution_count": 41,
   "id": "e05b7f9f-1561-4110-a604-79cdfa3f75cb",
   "metadata": {},
   "outputs": [
    {
     "data": {
      "image/png": "[encoded data removed]",
      "text/plain": [
       "<Figure size 640x480 with 1 Axes>"
      ]
     },
     "metadata": {},
     "output_type": "display_data"
    }
   ],
   "source": [
    "# Постройте box plot для выбранного параметра. Объясните, что на нем изображено.\n",
    "plt.boxplot(data_csv[parameter])\n",
    "plt.xlabel(parameter)\n",
    "plt.ylabel('Value')\n",
    "plt.title(f'Box Plot of {parameter}')\n",
    "plt.show()"
   ]
  },
  {
   "cell_type": "code",
   "execution_count": 42,
   "id": "3ea6b64b-3aa3-4ec3-bf58-d6adddf49354",
   "metadata": {},
   "outputs": [],
   "source": [
    "parameter_stats = data_csv[parameter].describe()"
   ]
  },
  {
   "cell_type": "code",
   "execution_count": 43,
   "id": "007d18da-34f6-48b3-a49e-f2b2588a2f63",
   "metadata": {},
   "outputs": [],
   "source": [
    "second_parameter = 'Density (Pop/km2)'\n",
    "grouped_data = data_csv.groupby(second_parameter)\n",
    "grouped_stats = grouped_data[parameter].agg(['mean', 'median'])"
   ]
  },
  {
   "cell_type": "code",
   "execution_count": 44,
   "id": "30e38468-cf08-4254-a934-6a3a4580e5cb",
   "metadata": {},
   "outputs": [
    {
     "name": "stdout",
     "output_type": "stream",
     "text": [
      "медиана: 1.75\n",
      "среднее: 1.614794520547945\n",
      "\n",
      "Box Plot:\n",
      "count    73.000000\n",
      "mean      1.614795\n",
      "std       0.362771\n",
      "min       0.830000\n",
      "25%       1.270000\n",
      "50%       1.750000\n",
      "75%       1.900000\n",
      "max       2.240000\n",
      "Name: Yearly Growth %, dtype: float64\n",
      "группировка:\n",
      "                       mean  median\n",
      "Density (Pop/km2)                  \n",
      "17                 1.800000   1.800\n",
      "18                 1.966667   1.960\n",
      "19                 2.015000   2.015\n",
      "20                 1.850000   1.860\n",
      "21                 1.913333   1.900\n",
      "22                 2.190000   2.190\n",
      "23                 2.055000   2.055\n",
      "24                 2.065000   2.065\n",
      "25                 2.040000   2.040\n",
      "26                 1.970000   1.970\n",
      "27                 1.885000   1.885\n",
      "28                 1.785000   1.785\n",
      "29                 1.760000   1.760\n",
      "30                 1.805000   1.805\n",
      "31                 1.840000   1.840\n",
      "32                 1.805000   1.805\n",
      "33                 1.810000   1.810\n",
      "34                 1.825000   1.825\n",
      "35                 1.780000   1.780\n",
      "36                 1.730000   1.730\n",
      "37                 1.570000   1.570\n",
      "38                 1.490000   1.490\n",
      "39                 1.445000   1.445\n",
      "40                 1.385000   1.385\n",
      "41                 1.340000   1.340\n",
      "42                 1.320000   1.320\n",
      "43                 1.285000   1.285\n",
      "44                 1.270000   1.270\n",
      "45                 1.270000   1.270\n",
      "46                 1.270000   1.270\n",
      "47                 1.260000   1.260\n",
      "48                 1.250000   1.250\n",
      "49                 1.230000   1.230\n",
      "50                 1.180000   1.180\n",
      "51                 1.150000   1.150\n",
      "52                 1.080000   1.080\n",
      "53                 0.925000   0.925\n",
      "54                 0.855000   0.855\n"
     ]
    }
   ],
   "source": [
    "print('медиана:', median)\n",
    "print('среднее:', mean)\n",
    "print('\\nBox Plot:')\n",
    "print(parameter_stats)\n",
    "print('группировка:')\n",
    "print(grouped_stats)"
   ]
  },
  {
   "cell_type": "code",
   "execution_count": null,
   "id": "e5eee144-4b39-4ad9-91b8-2d8986d487c0",
   "metadata": {},
   "outputs": [],
   "source": []
  }
 ],
 "metadata": {
  "kernelspec": {
   "display_name": "Python 3 (ipykernel)",
   "language": "python",
   "name": "python3"
  },
  "language_info": {
   "codemirror_mode": {
    "name": "ipython",
    "version": 3
   },
   "file_extension": ".py",
   "mimetype": "text/x-python",
   "name": "python",
   "nbconvert_exporter": "python",
   "pygments_lexer": "ipython3",
   "version": "3.12.1"
  }
 },
 "nbformat": 4,
 "nbformat_minor": 5
}
